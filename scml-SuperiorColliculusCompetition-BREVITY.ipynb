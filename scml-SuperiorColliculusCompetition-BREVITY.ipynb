{
 "cells": [
  {
   "cell_type": "markdown",
   "metadata": {},
   "source": [
    "# Brevity Entry\n",
    "\n",
    "Somewhat concerningly, this 10-line model out-performs the template on validation data. (not really that useful to jam the imports together, main point is that the model is only 2 layers)"
   ]
  },
  {
   "cell_type": "code",
   "execution_count": null,
   "metadata": {
    "collapsed": true
   },
   "outputs": [],
   "source": [
    "import keras, h5py, numpy as np\n",
    "\n",
    "datafile = h5py.File('SCNeuronModelCompetition.mat')\n",
    "movie = datafile.get('trainingmovie_mini') # movie for training\n",
    "movie = (movie - np.mean(movie)) / np.std(movie) # normalize\n",
    "frhist = datafile.get('FRhist_tr') # firing rate histograms\n",
    "\n",
    "model = keras.models.Sequential()\n",
    "model.add(keras.layers.TimeDistributed(keras.layers.Dense(50, activation='sigmoid'), input_shape=movie.shape[1:]))\n",
    "model.add(keras.layers.TimeDistributed(keras.layers.Dense(frhist.shape[2], activation='softplus')))\n",
    "model.compile(optimizer=keras.optimizers.Adam(lr=0.001, decay=1e-7), loss='poisson')\n",
    "\n",
    "history = model.fit(movie, frhist, epochs=200, batch_size=32, validation_split=0.2, shuffle=True)"
   ]
  }
 ],
 "metadata": {
  "kernelspec": {
   "display_name": "Python 3",
   "language": "python",
   "name": "python3"
  },
  "language_info": {
   "codemirror_mode": {
    "name": "ipython",
    "version": 3
   },
   "file_extension": ".py",
   "mimetype": "text/x-python",
   "name": "python",
   "nbconvert_exporter": "python",
   "pygments_lexer": "ipython3",
   "version": "3.6.2"
  }
 },
 "nbformat": 4,
 "nbformat_minor": 2
}
