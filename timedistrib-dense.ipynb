{
 "cells": [
  {
   "cell_type": "code",
   "execution_count": 1,
   "metadata": {
    "scrolled": false
   },
   "outputs": [],
   "source": [
    "# turns out having \n",
    "import h5py\n",
    "\n",
    "datafile = h5py.File('SCNeuronModelCompetition.mat')\n",
    "movie = datafile.get('trainingmovie_norm') # normalized movie\n",
    "frhist = datafile.get('FRhist_tr') # firing rate histograms"
   ]
  },
  {
   "cell_type": "code",
   "execution_count": null,
   "metadata": {
    "scrolled": false
   },
   "outputs": [
    {
     "name": "stdout",
     "output_type": "stream",
     "text": [
      "_________________________________________________________________\n",
      "Layer (type)                 Output Shape              Param #   \n",
      "=================================================================\n",
      "time_distributed_1 (TimeDist (None, 150, 50)           614450    \n",
      "_________________________________________________________________\n",
      "time_distributed_2 (TimeDist (None, 150, 54)           2754      \n",
      "=================================================================\n",
      "Total params: 617,204\n",
      "Trainable params: 617,204\n",
      "Non-trainable params: 0\n",
      "_________________________________________________________________\n",
      "Train on 230 samples, validate on 58 samples\n",
      "Epoch 1/200\n",
      "230/230 [==============================] - 6s 27ms/step - loss: 0.6395 - val_loss: 0.5778\n",
      "Epoch 2/200\n",
      "230/230 [==============================] - 4s 20ms/step - loss: 0.5560 - val_loss: 0.5253\n",
      "Epoch 3/200\n",
      "230/230 [==============================] - 5s 20ms/step - loss: 0.5054 - val_loss: 0.4806\n",
      "Epoch 4/200\n",
      "230/230 [==============================] - 5s 20ms/step - loss: 0.4651 - val_loss: 0.4449\n",
      "Epoch 5/200\n",
      "230/230 [==============================] - 5s 20ms/step - loss: 0.4330 - val_loss: 0.4185\n",
      "Epoch 6/200\n",
      "230/230 [==============================] - 5s 20ms/step - loss: 0.4089 - val_loss: 0.3988\n",
      "Epoch 7/200\n",
      "230/230 [==============================] - 4s 19ms/step - loss: 0.3917 - val_loss: 0.3843\n",
      "Epoch 8/200\n",
      "230/230 [==============================] - 5s 20ms/step - loss: 0.3786 - val_loss: 0.3741\n",
      "Epoch 9/200\n",
      "230/230 [==============================] - 5s 21ms/step - loss: 0.3691 - val_loss: 0.3653\n",
      "Epoch 10/200\n",
      "230/230 [==============================] - 5s 20ms/step - loss: 0.3619 - val_loss: 0.3597\n",
      "Epoch 11/200\n",
      "224/230 [============================>.] - ETA: 0s - loss: 0.3566"
     ]
    }
   ],
   "source": [
    "import keras\n",
    "from keras.layers import Dense, TimeDistributed\n",
    "\n",
    "model = keras.models.Sequential()\n",
    "\n",
    "model.add(TimeDistributed(Dense(50, activation='sigmoid'), input_shape=movie.shape[1:]))\n",
    "# model.add(TimeDistributed(Dense(25, activation='relu')))\n",
    "# model.add(TimeDistributed(Dense(200, activation='relu')))\n",
    "model.add(TimeDistributed(Dense(frhist.shape[2], activation='softplus')))\n",
    "\n",
    "# model.add(TimeDistributed(Conv2D(10, (3, 3), activation='relu'),\n",
    "#                           input_shape=movie.shape[1:]))\n",
    "# model.add(TimeDistributed(MaxPool2D((2, 2))))\n",
    "# model.add(TimeDistributed(Reshape(29610)))\n",
    "# model.add(TimeDistributed(Dense(10, activation='relu')))\n",
    "\n",
    "# model.add(CuDNNLSTM(50, return_sequences=True, input_shape=(150, 12288)))\n",
    "# # model.add(Dropout(0.2))\n",
    "# model.add(Dense(30, activation='sigmoid'))\n",
    "\n",
    "# model.add(Dense(frhist.shape[2], activation='softplus'))\n",
    "\n",
    "adamopt = keras.optimizers.Adam(lr=0.001, decay=1e-7)\n",
    "model.compile(optimizer=adamopt, loss='poisson')\n",
    "model.summary()\n",
    "\n",
    "history = model.fit(movie, frhist, epochs=200, batch_size=32, validation_split=0.2, shuffle=True)"
   ]
  }
 ],
 "metadata": {
  "kernelspec": {
   "display_name": "Python 3",
   "language": "python",
   "name": "python3"
  },
  "language_info": {
   "codemirror_mode": {
    "name": "ipython",
    "version": 3
   },
   "file_extension": ".py",
   "mimetype": "text/x-python",
   "name": "python",
   "nbconvert_exporter": "python",
   "pygments_lexer": "ipython3",
   "version": "3.6.2"
  }
 },
 "nbformat": 4,
 "nbformat_minor": 1
}
