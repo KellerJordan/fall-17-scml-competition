{
 "cells": [
  {
   "cell_type": "code",
   "execution_count": 1,
   "metadata": {
    "scrolled": false
   },
   "outputs": [],
   "source": [
    "# turns out having \n",
    "import h5py\n",
    "\n",
    "datafile = h5py.File('SCNeuronModelCompetition.mat')\n",
    "movie = datafile.get('trainingmovie_norm') # normalized movie\n",
    "frhist = datafile.get('FRhist_tr') # firing rate histograms"
   ]
  },
  {
   "cell_type": "code",
   "execution_count": null,
   "metadata": {
    "scrolled": false
   },
   "outputs": [],
   "source": [
    "import keras\n",
    "from keras.layers import Dense, TimeDistributed\n",
    "\n",
    "model = keras.models.Sequential()\n",
    "\n",
    "model.add(TimeDistributed(Dense(50, activation='relu'), input_shape=movie.shape[1:]))\n",
    "model.add(TimeDistributed(Dense(25, activation='relu')))\n",
    "# model.add(TimeDistributed(Dense(200, activation='relu')))\n",
    "model.add(TimeDistributed(Dense(frhist.shape[2], activation='softplus')))\n",
    "\n",
    "# model.add(TimeDistributed(Conv2D(10, (3, 3), activation='relu'),\n",
    "#                           input_shape=movie.shape[1:]))\n",
    "# model.add(TimeDistributed(MaxPool2D((2, 2))))\n",
    "# model.add(TimeDistributed(Reshape(29610)))\n",
    "# model.add(TimeDistributed(Dense(10, activation='relu')))\n",
    "\n",
    "# model.add(CuDNNLSTM(50, return_sequences=True, input_shape=(150, 12288)))\n",
    "# # model.add(Dropout(0.2))\n",
    "# model.add(Dense(30, activation='sigmoid'))\n",
    "\n",
    "# model.add(Dense(frhist.shape[2], activation='softplus'))\n",
    "\n",
    "adamopt = keras.optimizers.Adam(lr=0.001, decay=1e-7)\n",
    "model.compile(optimizer=adamopt, loss='poisson')\n",
    "model.summary()\n",
    "\n",
    "history = model.fit(movie, frhist, epochs=200, batch_size=32, validation_split=0.2, shuffle=True)"
   ]
  }
 ],
 "metadata": {
  "kernelspec": {
   "display_name": "Python 3",
   "language": "python",
   "name": "python3"
  },
  "language_info": {
   "codemirror_mode": {
    "name": "ipython",
    "version": 3
   },
   "file_extension": ".py",
   "mimetype": "text/x-python",
   "name": "python",
   "nbconvert_exporter": "python",
   "pygments_lexer": "ipython3",
   "version": "3.5.2"
  }
 },
 "nbformat": 4,
 "nbformat_minor": 1
}
