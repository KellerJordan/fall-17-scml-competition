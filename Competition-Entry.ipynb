{
 "cells": [
  {
   "cell_type": "markdown",
   "metadata": {},
   "source": [
    "# Entry to Fall SCML Competition"
   ]
  },
  {
   "cell_type": "code",
   "execution_count": 1,
   "metadata": {},
   "outputs": [],
   "source": [
    "# loading/normalizing data to start with\n",
    "import numpy as np\n",
    "import h5py\n",
    "\n",
    "datafile = h5py.File('SCNeuronModelCompetition.mat')\n",
    "movie = datafile.get('trainingmovie_mini') # training movie\n",
    "movie = (movie - np.mean(movie)) / np.std(movie) # normalize\n",
    "frhist = datafile.get('FRhist_tr') # firing rate histograms"
   ]
  },
  {
   "cell_type": "markdown",
   "metadata": {},
   "source": [
    "### Model\n",
    "\n",
    "The following simple model is the best I was able to find for this dataset. It achieves a loss of `.3423` vs the template model's `.3632`. I was able to sometimes get a slightly (<`.0004`) higher accuracy using one LSTM layer, but it didn't seem worth it due to the quadrupled parameter count per node. The second hidden layer decreased loss by only about `.0005`."
   ]
  },
  {
   "cell_type": "code",
   "execution_count": 2,
   "metadata": {
    "scrolled": false
   },
   "outputs": [
    {
     "name": "stderr",
     "output_type": "stream",
     "text": [
      "Using TensorFlow backend.\n"
     ]
    },
    {
     "name": "stdout",
     "output_type": "stream",
     "text": [
      "_________________________________________________________________\n",
      "Layer (type)                 Output Shape              Param #   \n",
      "=================================================================\n",
      "time_distributed_1 (TimeDist (None, 150, 65)           798785    \n",
      "_________________________________________________________________\n",
      "time_distributed_2 (TimeDist (None, 150, 65)           4290      \n",
      "_________________________________________________________________\n",
      "time_distributed_3 (TimeDist (None, 150, 54)           3564      \n",
      "=================================================================\n",
      "Total params: 806,639\n",
      "Trainable params: 806,639\n",
      "Non-trainable params: 0\n",
      "_________________________________________________________________\n",
      "Train on 230 samples, validate on 58 samples\n",
      "Epoch 1/200\n",
      "230/230 [==============================] - 4s 19ms/step - loss: 0.7635 - val_loss: 0.6873\n",
      "Epoch 2/200\n",
      "230/230 [==============================] - 4s 16ms/step - loss: 0.6523 - val_loss: 0.5970\n",
      "Epoch 3/200\n",
      "230/230 [==============================] - 4s 16ms/step - loss: 0.5690 - val_loss: 0.5253\n",
      "Epoch 4/200\n",
      "230/230 [==============================] - 4s 16ms/step - loss: 0.5035 - val_loss: 0.4695\n",
      "Epoch 5/200\n",
      "230/230 [==============================] - 4s 16ms/step - loss: 0.4539 - val_loss: 0.4291\n",
      "Epoch 6/200\n",
      "230/230 [==============================] - 4s 16ms/step - loss: 0.4186 - val_loss: 0.4013\n",
      "Epoch 7/200\n",
      "230/230 [==============================] - 4s 16ms/step - loss: 0.3945 - val_loss: 0.3825\n",
      "Epoch 8/200\n",
      "230/230 [==============================] - 4s 16ms/step - loss: 0.3782 - val_loss: 0.3700\n",
      "Epoch 9/200\n",
      "230/230 [==============================] - 4s 16ms/step - loss: 0.3675 - val_loss: 0.3619\n",
      "Epoch 10/200\n",
      "230/230 [==============================] - 4s 16ms/step - loss: 0.3605 - val_loss: 0.3566\n",
      "Epoch 11/200\n",
      "230/230 [==============================] - 4s 16ms/step - loss: 0.3557 - val_loss: 0.3530\n",
      "Epoch 12/200\n",
      "230/230 [==============================] - 4s 16ms/step - loss: 0.3524 - val_loss: 0.3504\n",
      "Epoch 13/200\n",
      "230/230 [==============================] - 4s 16ms/step - loss: 0.3501 - val_loss: 0.3487\n",
      "Epoch 14/200\n",
      "230/230 [==============================] - 4s 16ms/step - loss: 0.3486 - val_loss: 0.3475\n",
      "Epoch 15/200\n",
      "230/230 [==============================] - 4s 16ms/step - loss: 0.3473 - val_loss: 0.3466\n",
      "Epoch 16/200\n",
      "230/230 [==============================] - 4s 16ms/step - loss: 0.3463 - val_loss: 0.3459\n",
      "Epoch 17/200\n",
      "230/230 [==============================] - 4s 15ms/step - loss: 0.3456 - val_loss: 0.3454\n",
      "Epoch 18/200\n",
      "230/230 [==============================] - 4s 16ms/step - loss: 0.3450 - val_loss: 0.3451\n",
      "Epoch 19/200\n",
      "230/230 [==============================] - 4s 16ms/step - loss: 0.3445 - val_loss: 0.3446\n",
      "Epoch 20/200\n",
      "230/230 [==============================] - 4s 16ms/step - loss: 0.3441 - val_loss: 0.3442\n",
      "Epoch 21/200\n",
      "230/230 [==============================] - 4s 16ms/step - loss: 0.3438 - val_loss: 0.3439\n",
      "Epoch 22/200\n",
      "230/230 [==============================] - 4s 16ms/step - loss: 0.3435 - val_loss: 0.3438\n",
      "Epoch 23/200\n",
      "230/230 [==============================] - 4s 16ms/step - loss: 0.3433 - val_loss: 0.3437\n",
      "Epoch 24/200\n",
      "230/230 [==============================] - 4s 16ms/step - loss: 0.3430 - val_loss: 0.3435\n",
      "Epoch 25/200\n",
      "230/230 [==============================] - 4s 16ms/step - loss: 0.3429 - val_loss: 0.3433\n",
      "Epoch 26/200\n",
      "230/230 [==============================] - 4s 16ms/step - loss: 0.3427 - val_loss: 0.3432\n",
      "Epoch 27/200\n",
      "230/230 [==============================] - 4s 15ms/step - loss: 0.3426 - val_loss: 0.3430\n",
      "Epoch 28/200\n",
      "230/230 [==============================] - 4s 16ms/step - loss: 0.3424 - val_loss: 0.3430\n",
      "Epoch 29/200\n",
      "230/230 [==============================] - 4s 15ms/step - loss: 0.3423 - val_loss: 0.3430\n",
      "Epoch 30/200\n",
      "230/230 [==============================] - 3s 14ms/step - loss: 0.3423 - val_loss: 0.3429\n",
      "Epoch 31/200\n",
      "230/230 [==============================] - 3s 15ms/step - loss: 0.3420 - val_loss: 0.3427\n",
      "Epoch 32/200\n",
      "230/230 [==============================] - 4s 15ms/step - loss: 0.3420 - val_loss: 0.3427\n",
      "Epoch 33/200\n",
      "230/230 [==============================] - 4s 16ms/step - loss: 0.3418 - val_loss: 0.3427\n",
      "Epoch 34/200\n",
      "230/230 [==============================] - 3s 15ms/step - loss: 0.3417 - val_loss: 0.3426\n",
      "Epoch 35/200\n",
      "230/230 [==============================] - 4s 16ms/step - loss: 0.3416 - val_loss: 0.3426\n",
      "Epoch 36/200\n",
      "230/230 [==============================] - 3s 14ms/step - loss: 0.3415 - val_loss: 0.3424\n",
      "Epoch 37/200\n",
      "230/230 [==============================] - 3s 14ms/step - loss: 0.3414 - val_loss: 0.3425\n",
      "Epoch 38/200\n",
      "230/230 [==============================] - 3s 15ms/step - loss: 0.3412 - val_loss: 0.3425\n",
      "Epoch 39/200\n",
      "230/230 [==============================] - 3s 15ms/step - loss: 0.3411 - val_loss: 0.3425\n",
      "Epoch 40/200\n",
      "230/230 [==============================] - 3s 14ms/step - loss: 0.3410 - val_loss: 0.3425\n",
      "Epoch 41/200\n",
      "230/230 [==============================] - 4s 16ms/step - loss: 0.3409 - val_loss: 0.3425\n",
      "Epoch 42/200\n",
      "230/230 [==============================] - 3s 14ms/step - loss: 0.3407 - val_loss: 0.3426\n",
      "Epoch 43/200\n",
      "230/230 [==============================] - 4s 16ms/step - loss: 0.3406 - val_loss: 0.3425\n",
      "Epoch 44/200\n",
      "230/230 [==============================] - 3s 14ms/step - loss: 0.3405 - val_loss: 0.3424\n",
      "Epoch 45/200\n",
      "230/230 [==============================] - 4s 15ms/step - loss: 0.3403 - val_loss: 0.3424\n",
      "Epoch 46/200\n",
      "230/230 [==============================] - 4s 16ms/step - loss: 0.3402 - val_loss: 0.3424\n",
      "Epoch 47/200\n",
      "230/230 [==============================] - 3s 15ms/step - loss: 0.3401 - val_loss: 0.3423\n",
      "Epoch 48/200\n",
      "230/230 [==============================] - 3s 15ms/step - loss: 0.3399 - val_loss: 0.3424\n",
      "Epoch 49/200\n",
      "230/230 [==============================] - 4s 16ms/step - loss: 0.3398 - val_loss: 0.3424\n",
      "Epoch 50/200\n",
      "230/230 [==============================] - 4s 16ms/step - loss: 0.3397 - val_loss: 0.3424\n",
      "Epoch 51/200\n",
      "230/230 [==============================] - 4s 16ms/step - loss: 0.3396 - val_loss: 0.3424\n",
      "Epoch 52/200\n",
      "230/230 [==============================] - 4s 16ms/step - loss: 0.3394 - val_loss: 0.3422\n",
      "Epoch 53/200\n",
      "230/230 [==============================] - 4s 16ms/step - loss: 0.3392 - val_loss: 0.3422\n",
      "Epoch 54/200\n",
      "230/230 [==============================] - 3s 15ms/step - loss: 0.3392 - val_loss: 0.3423\n",
      "Epoch 55/200\n",
      "230/230 [==============================] - 3s 14ms/step - loss: 0.3390 - val_loss: 0.3424\n",
      "Epoch 56/200\n",
      "230/230 [==============================] - 3s 14ms/step - loss: 0.3388 - val_loss: 0.3424\n",
      "Epoch 57/200\n",
      "230/230 [==============================] - 3s 14ms/step - loss: 0.3386 - val_loss: 0.3424\n",
      "Epoch 58/200\n",
      "230/230 [==============================] - 3s 14ms/step - loss: 0.3385 - val_loss: 0.3424\n",
      "Epoch 59/200\n",
      "230/230 [==============================] - 3s 14ms/step - loss: 0.3383 - val_loss: 0.3423\n",
      "Epoch 60/200\n",
      "230/230 [==============================] - 3s 15ms/step - loss: 0.3382 - val_loss: 0.3424\n",
      "Epoch 61/200\n",
      "230/230 [==============================] - 3s 15ms/step - loss: 0.3381 - val_loss: 0.3424\n",
      "Epoch 62/200\n",
      "230/230 [==============================] - 3s 14ms/step - loss: 0.3379 - val_loss: 0.3423\n"
     ]
    }
   ],
   "source": [
    "import keras\n",
    "from keras.layers import TimeDistributed, Dense\n",
    "\n",
    "model = keras.models.Sequential()\n",
    "\n",
    "model.add(TimeDistributed(Dense(65, activation='sigmoid'), input_shape=movie.shape[1:]))\n",
    "model.add(TimeDistributed(Dense(65, activation='sigmoid')))\n",
    "model.add(TimeDistributed(Dense(frhist.shape[2], activation='softplus')))\n",
    "\n",
    "model.summary()\n",
    "model.compile(optimizer=keras.optimizers.Adam(lr=0.001, decay=1e-7), loss='poisson')\n",
    "\n",
    "early_stopping = keras.callbacks.EarlyStopping(monitor='val_loss', patience=10)\n",
    "history = model.fit(movie, frhist, epochs=200, batch_size=32, validation_split=0.2, shuffle=True, callbacks=[early_stopping])"
   ]
  },
  {
   "cell_type": "markdown",
   "metadata": {},
   "source": [
    "### Thoughts\n",
    "\n",
    "There are a few potential explanations as to why more complicated structures do not improve accuracy. There might just not be enough data to make recurrent layers like LSTM useful, or there could truly be little time dependency in the dataset. Using conv/pool layers might destroy data useful for particular neurons as a result of the pooling operation. Given how shallow my best ANN model ended up being, other methods like SVM might be better suited to the problem."
   ]
  },
  {
   "cell_type": "markdown",
   "metadata": {},
   "source": [
    "Thanks Dr. Ito for an interesting competition!"
   ]
  }
 ],
 "metadata": {
  "kernelspec": {
   "display_name": "Python 3",
   "language": "python",
   "name": "python3"
  },
  "language_info": {
   "codemirror_mode": {
    "name": "ipython",
    "version": 3
   },
   "file_extension": ".py",
   "mimetype": "text/x-python",
   "name": "python",
   "nbconvert_exporter": "python",
   "pygments_lexer": "ipython3",
   "version": "3.5.2"
  }
 },
 "nbformat": 4,
 "nbformat_minor": 2
}
