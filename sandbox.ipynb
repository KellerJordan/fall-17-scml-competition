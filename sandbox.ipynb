{
 "cells": [
  {
   "cell_type": "code",
   "execution_count": 2,
   "metadata": {
    "collapsed": false
   },
   "outputs": [
    {
     "name": "stdout",
     "output_type": "stream",
     "text": [
      "(288, 150, 12288)\n"
     ]
    }
   ],
   "source": [
    "import numpy as np\n",
    "import h5py\n",
    "\n",
    "datafile = h5py.File('SCNeuronModelCompetition.mat')\n",
    "movie = datafile.get('trainingmovie_norm') # normalized movie\n",
    "frhist = datafile.get('FRhist_tr') # firing rate histograms\n",
    "# movie = np.array(movie).reshape(288, 150, 128, 96, 1)\n",
    "print(movie.shape)"
   ]
  },
  {
   "cell_type": "code",
   "execution_count": 3,
   "metadata": {
    "collapsed": false
   },
   "outputs": [
    {
     "name": "stdout",
     "output_type": "stream",
     "text": [
      "[name: \"/cpu:0\"\n",
      "device_type: \"CPU\"\n",
      "memory_limit: 268435456\n",
      "locality {\n",
      "}\n",
      "incarnation: 3127302179330207108\n",
      ", name: \"/gpu:0\"\n",
      "device_type: \"GPU\"\n",
      "memory_limit: 15927646618\n",
      "locality {\n",
      "  bus_id: 1\n",
      "}\n",
      "incarnation: 17814482850690332128\n",
      "physical_device_desc: \"device: 0, name: Tesla P100-PCIE-16GB, pci bus id: 0000:00:04.0\"\n",
      "]\n"
     ]
    }
   ],
   "source": [
    "from tensorflow.python.client import device_lib\n",
    "print(device_lib.list_local_devices())\n",
    "import tensorflow as tf\n",
    "sess = tf.Session(config=tf.ConfigProto(log_device_placement=True))"
   ]
  },
  {
   "cell_type": "code",
   "execution_count": 5,
   "metadata": {
    "collapsed": false,
    "scrolled": false
   },
   "outputs": [
    {
     "name": "stdout",
     "output_type": "stream",
     "text": [
      "_________________________________________________________________\n",
      "Layer (type)                 Output Shape              Param #   \n",
      "=================================================================\n",
      "cu_dnnlstm_2 (CuDNNLSTM)     (None, 150, 100)          4956000   \n",
      "_________________________________________________________________\n",
      "time_distributed_1 (TimeDist (None, 150, 54)           5454      \n",
      "_________________________________________________________________\n",
      "activation_1 (Activation)    (None, 150, 54)           0         \n",
      "=================================================================\n",
      "Total params: 4,961,454\n",
      "Trainable params: 4,961,454\n",
      "Non-trainable params: 0\n",
      "_________________________________________________________________\n",
      "Train on 230 samples, validate on 58 samples\n",
      "Epoch 1/200\n",
      "230/230 [==============================] - 6s 26ms/step - loss: 0.5826 - val_loss: 0.4721\n",
      "Epoch 2/200\n",
      "230/230 [==============================] - 5s 21ms/step - loss: 0.4421 - val_loss: 0.4054\n",
      "Epoch 3/200\n",
      "230/230 [==============================] - 5s 22ms/step - loss: 0.3884 - val_loss: 0.3715\n",
      "Epoch 4/200\n",
      "230/230 [==============================] - 5s 22ms/step - loss: 0.3633 - val_loss: 0.3559\n",
      "Epoch 5/200\n",
      "230/230 [==============================] - 5s 22ms/step - loss: 0.3521 - val_loss: 0.3498\n",
      "Epoch 6/200\n",
      "230/230 [==============================] - 5s 22ms/step - loss: 0.3466 - val_loss: 0.3473\n",
      "Epoch 7/200\n",
      "230/230 [==============================] - 5s 21ms/step - loss: 0.3436 - val_loss: 0.3465\n",
      "Epoch 8/200\n",
      "230/230 [==============================] - 5s 22ms/step - loss: 0.3417 - val_loss: 0.3454\n",
      "Epoch 9/200\n",
      "230/230 [==============================] - 5s 21ms/step - loss: 0.3405 - val_loss: 0.3448\n",
      "Epoch 10/200\n",
      "230/230 [==============================] - 5s 21ms/step - loss: 0.3397 - val_loss: 0.3443\n",
      "Epoch 11/200\n",
      "230/230 [==============================] - 5s 22ms/step - loss: 0.3389 - val_loss: 0.3440\n",
      "Epoch 12/200\n",
      "230/230 [==============================] - 5s 22ms/step - loss: 0.3382 - val_loss: 0.3440\n",
      "Epoch 13/200\n",
      "230/230 [==============================] - 5s 21ms/step - loss: 0.3377 - val_loss: 0.3440\n",
      "Epoch 14/200\n",
      "230/230 [==============================] - 5s 22ms/step - loss: 0.3370 - val_loss: 0.3437\n",
      "Epoch 15/200\n",
      "230/230 [==============================] - 5s 22ms/step - loss: 0.3365 - val_loss: 0.3439\n",
      "Epoch 16/200\n",
      "230/230 [==============================] - 5s 20ms/step - loss: 0.3360 - val_loss: 0.3437\n",
      "Epoch 17/200\n",
      "230/230 [==============================] - 5s 21ms/step - loss: 0.3355 - val_loss: 0.3437\n",
      "Epoch 18/200\n",
      "230/230 [==============================] - 5s 21ms/step - loss: 0.3351 - val_loss: 0.3441\n",
      "Epoch 19/200\n",
      "230/230 [==============================] - 5s 21ms/step - loss: 0.3346 - val_loss: 0.3436\n",
      "Epoch 20/200\n",
      "230/230 [==============================] - 5s 22ms/step - loss: 0.3344 - val_loss: 0.3441\n",
      "Epoch 21/200\n",
      "230/230 [==============================] - 5s 22ms/step - loss: 0.3341 - val_loss: 0.3436\n",
      "Epoch 22/200\n",
      "230/230 [==============================] - 5s 22ms/step - loss: 0.3337 - val_loss: 0.3437\n",
      "Epoch 23/200\n",
      "230/230 [==============================] - 5s 20ms/step - loss: 0.3331 - val_loss: 0.3436\n",
      "Epoch 24/200\n",
      "230/230 [==============================] - 5s 20ms/step - loss: 0.3328 - val_loss: 0.3437\n",
      "Epoch 25/200\n",
      "230/230 [==============================] - 5s 21ms/step - loss: 0.3325 - val_loss: 0.3442\n",
      "Epoch 26/200\n",
      "230/230 [==============================] - 5s 21ms/step - loss: 0.3321 - val_loss: 0.3440\n",
      "Epoch 27/200\n",
      "230/230 [==============================] - 5s 22ms/step - loss: 0.3319 - val_loss: 0.3441\n",
      "Epoch 28/200\n",
      "230/230 [==============================] - 5s 22ms/step - loss: 0.3316 - val_loss: 0.3442\n",
      "Epoch 29/200\n",
      "230/230 [==============================] - 5s 22ms/step - loss: 0.3313 - val_loss: 0.3441\n",
      "Epoch 30/200\n",
      "230/230 [==============================] - 5s 22ms/step - loss: 0.3309 - val_loss: 0.3438\n",
      "Epoch 31/200\n",
      "230/230 [==============================] - 5s 22ms/step - loss: 0.3305 - val_loss: 0.3444\n"
     ]
    }
   ],
   "source": [
    "import keras\n",
    "from keras.layers import CuDNNLSTM, Activation, Dense, BatchNormalization\n",
    "from keras.layers import Conv2D, MaxPooling2D, Dropout, Reshape\n",
    "from keras.layers import TimeDistributed\n",
    "\n",
    "seq_len = movie.shape[1]\n",
    "input_size = movie.shape[2]\n",
    "num_layer = 3\n",
    "num_hidden = 100\n",
    "output_size = frhist.shape[2]\n",
    "\n",
    "model = keras.models.Sequential()\n",
    "\n",
    "model.add(CuDNNLSTM(num_hidden, return_sequences=True, input_shape=(seq_len, input_size)))\n",
    "# for _ in range(1, num_layer):\n",
    "#     model.add(BatchNormalization(momentum=0))\n",
    "#     model.add(Activation('relu'))\n",
    "#     model.add(CuDNNLSTM(num_hidden, return_sequences=True))\n",
    "\n",
    "# model.add(BatchNormalization(momentum=0))\n",
    "# model.add(Activation('linear'))\n",
    "model.add(TimeDistributed(Dense(output_size)))\n",
    "model.add(Activation('softplus'))\n",
    "adamopt = keras.optimizers.Adam(lr=0.001, decay=1e-7)\n",
    "\n",
    "model.compile(optimizer=adamopt, loss='poisson')\n",
    "model.summary()\n",
    "\n",
    "early_stopping = keras.callbacks.EarlyStopping(monitor='val_loss', patience=10)\n",
    "history = model.fit(movie, frhist, epochs=200, batch_size=32, validation_split=0.2, shuffle=True, callbacks=[early_stopping])"
   ]
  }
 ],
 "metadata": {
  "kernelspec": {
   "display_name": "Python 3",
   "language": "python",
   "name": "python3"
  },
  "language_info": {
   "codemirror_mode": {
    "name": "ipython",
    "version": 3
   },
   "file_extension": ".py",
   "mimetype": "text/x-python",
   "name": "python",
   "nbconvert_exporter": "python",
   "pygments_lexer": "ipython3",
   "version": "3.5.2"
  }
 },
 "nbformat": 4,
 "nbformat_minor": 0
}
