{
 "cells": [
  {
   "cell_type": "code",
   "execution_count": null,
   "metadata": {
    "collapsed": false
   },
   "outputs": [
    {
     "name": "stdout",
     "output_type": "stream",
     "text": [
      "_________________________________________________________________\n",
      "Layer (type)                 Output Shape              Param #   \n",
      "=================================================================\n",
      "time_distributed_1 (TimeDist (None, 150, 126, 94, 10)  100       \n",
      "_________________________________________________________________\n",
      "time_distributed_2 (TimeDist (None, 150, 63, 47, 10)   0         \n",
      "_________________________________________________________________\n",
      "time_distributed_3 (TimeDist (None, 150, 29610)        0         \n",
      "_________________________________________________________________\n",
      "time_distributed_4 (TimeDist (None, 150, 10)           296110    \n",
      "_________________________________________________________________\n",
      "dense_2 (Dense)              (None, 150, 54)           594       \n",
      "=================================================================\n",
      "Total params: 296,804\n",
      "Trainable params: 296,804\n",
      "Non-trainable params: 0\n",
      "_________________________________________________________________\n",
      "Train on 230 samples, validate on 58 samples"
     ]
    }
   ],
   "source": [
    "# tf 1.0.1 cant do time-distributed conv2d, need to get cuda6/cudnn5 and tf 1.4\n",
    "import h5py\n",
    "import numpy as np\n",
    "\n",
    "datafile = h5py.File('SCNeuronModelCompetition.mat')\n",
    "movie = datafile.get('trainingmovie_norm') # normalized movie\n",
    "frhist = datafile.get('FRhist_tr') # firing rate histograms\n",
    "movie = np.array(movie).reshape(288, 150, 128, 96, 1)\n",
    "\n",
    "import keras\n",
    "from keras.layers import Dense, Dropout, TimeDistributed, Activation\n",
    "from keras.layers import Conv2D, MaxPool2D, Reshape\n",
    "\n",
    "model = keras.models.Sequential()\n",
    "\n",
    "model.add(TimeDistributed(Conv2D(10, (3, 3), activation='relu'),\n",
    "                          input_shape=movie.shape[1:]))\n",
    "model.add(TimeDistributed(MaxPool2D((2, 2))))\n",
    "model.add(TimeDistributed(Reshape((29610,))))\n",
    "model.add(TimeDistributed(Dense(10, activation='relu')))\n",
    "\n",
    "model.add(Dense(frhist.shape[2], activation='softplus'))\n",
    "\n",
    "adamopt = keras.optimizers.Adam(lr=0.001, decay=1e-7)\n",
    "model.compile(optimizer=adamopt, loss='poisson')\n",
    "model.summary()\n",
    "\n",
    "history = model.fit(movie, frhist, epochs=200, batch_size=32, validation_split=0.2, shuffle=True)\n"
   ]
  }
 ],
 "metadata": {
  "kernelspec": {
   "display_name": "Python 3",
   "language": "python",
   "name": "python3"
  },
  "language_info": {
   "codemirror_mode": {
    "name": "ipython",
    "version": 3
   },
   "file_extension": ".py",
   "mimetype": "text/x-python",
   "name": "python",
   "nbconvert_exporter": "python",
   "pygments_lexer": "ipython3",
   "version": "3.5.2"
  }
 },
 "nbformat": 4,
 "nbformat_minor": 0
}
